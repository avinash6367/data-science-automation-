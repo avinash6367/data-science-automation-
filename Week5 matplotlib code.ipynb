import matplotlib.pyplot as plt
import numpy as np
import pandas as pd


file_path = "Lab_Results_New.csv"
df_lab_new = pd.read_csv(file_path, encoding="latin1", low_memory=False)


df_lab_new["Date_Collected"] = pd.to_datetime(df_lab_new["Date_Collected"], errors="coerce")
df_lab_new["Numeric_Result"] = pd.to_numeric(df_lab_new["Numeric_Result"], errors="coerce")


time_period_new = f"({df_lab_new['Date_Collected'].min().year} - {df_lab_new['Date_Collected'].max().year})"


cholesterol_df = df_lab_new[df_lab_new["Test_Name"].str.contains("Cholesterol", case=False, na=False)].dropna(subset=["Numeric_Result"])
cholesterol_df["Year"] = cholesterol_df["Date_Collected"].dt.year
cholesterol_trend = cholesterol_df.groupby("Year")["Numeric_Result"].mean()


test_counts = df_lab_new["Test_Name"].value_counts().head(10)

# Visualization 1: Trend of Cholesterol Test Results Over Time
fig, ax = plt.subplots(figsize=(10, 5))
ax.plot(cholesterol_trend.index, cholesterol_trend.values, marker="o", linestyle="-", color="red")
ax.set_ylabel("Average Cholesterol Level (mg/dL)")
ax.set_title(f"Trend of Cholesterol Test Results Over Time {time_period_new}")
ax.set_xticks(np.arange(min(cholesterol_trend.index), max(cholesterol_trend.index) + 1, 5))
ax.spines['top'].set_visible(False)
ax.spines['right'].set_visible(False)
ax.grid(False)  
plt.show()

# Visualization 2: Distribution of Different Lab Tests
fig, ax = plt.subplots(figsize=(12, 6))
ax.barh(test_counts.index[::-1], test_counts.values[::-1], color="skyblue")
ax.set_xlabel("Number of Tests Conducted")
ax.set_title(f"Top 10 Most Common Lab Tests {time_period_new}")
ax.spines['top'].set_visible(False)
ax.spines['right'].set_visible(False)
ax.xaxis.set_label_position('top')
ax.xaxis.tick_top()
ax.grid(False)  
plt.show()

# Visualization 3: Histogram of Cholesterol Levels
fig, ax = plt.subplots(figsize=(10, 5))
ax.hist(cholesterol_df["Numeric_Result"], bins=20, color="purple", alpha=0.7, edgecolor="black")
ax.set_xlabel("Cholesterol Level (mg/dL)")
ax.set_ylabel("Frequency")
ax.set_title(f"Distribution of Cholesterol Test Results {time_period_new}")
ax.spines['top'].set_visible(False)
ax.spines['right'].set_visible(False)
ax.grid(False)  
plt.show()


